{
 "cells": [
  {
   "cell_type": "markdown",
   "metadata": {},
   "source": [
    "Изобразить эпсилон - спектр, эллиптический спектральный портрет с полуосями a=||A||,b=t и соответствующую клеточно диагональную форму матрицы А при с=1, е=10^-3"
   ]
  },
  {
   "cell_type": "code",
   "execution_count": 1,
   "metadata": {},
   "outputs": [],
   "source": [
    "import numpy as np\n",
    "import numpy.linalg as la\n",
    "from matplotlib import pyplot\n",
    "from mpseudo import pseudo\n",
    "import math\n",
    "import matplotlib.pyplot as plt\n",
    "from pprint import pprint\n",
    "\n",
    "from IPython.display import HTML, display\n",
    "import tabulate"
   ]
  },
  {
   "cell_type": "code",
   "execution_count": 129,
   "metadata": {},
   "outputs": [
    {
     "data": {
      "text/html": [
       "<table>\n",
       "<tbody>\n",
       "<tr><td style=\"text-align: right;\">-1.902113032590306</td><td style=\"text-align: right;\">-1.618033988749896</td><td style=\"text-align: right;\">-1.175570504584947</td></tr>\n",
       "<tr><td style=\"text-align: right;\">-0.618033988749895</td><td style=\"text-align: right;\"> 0.000000000000000</td><td style=\"text-align: right;\"> 0.618033988749895</td></tr>\n",
       "<tr><td style=\"text-align: right;\"> 1.175570504584947</td><td style=\"text-align: right;\"> 1.618033988749896</td><td style=\"text-align: right;\"> 1.902113032590306</td></tr>\n",
       "</tbody>\n",
       "</table>"
      ],
      "text/plain": [
       "<IPython.core.display.HTML object>"
      ]
     },
     "metadata": {},
     "output_type": "display_data"
    },
    {
     "data": {
      "text/html": [
       "<table>\n",
       "<tbody>\n",
       "<tr><td style=\"text-align: right;\">-1.11022e-16</td><td style=\"text-align: right;\">-1.11022e-16</td><td style=\"text-align: right;\"> 1.38778e-16</td></tr>\n",
       "<tr><td style=\"text-align: right;\"> 1.38778e-16</td><td style=\"text-align: right;\"> 1.11732e-30</td><td style=\"text-align: right;\">-2.77556e-17</td></tr>\n",
       "<tr><td style=\"text-align: right;\">-2.77556e-17</td><td style=\"text-align: right;\"> 0          </td><td style=\"text-align: right;\"> 0          </td></tr>\n",
       "</tbody>\n",
       "</table>"
      ],
      "text/plain": [
       "<IPython.core.display.HTML object>"
      ]
     },
     "metadata": {},
     "output_type": "display_data"
    }
   ],
   "source": [
    "\n",
    "# \n",
    "c=1\n",
    "eps=1 #pow(10,-3)\n",
    "\n",
    "\n",
    "\n",
    "# Создаем матрицу из задания\n",
    "\n",
    "A=np.zeros((9,9))\n",
    "for i in [1,4,7]:\n",
    "    A[i-1][i]=c\n",
    "    A[i][i-1]=-c\n",
    "    A[i][i+1]=c\n",
    "    A[i+1][i]=-c\n",
    "A[3,2]=eps\n",
    "A[6,5]=eps\n",
    "A[2,3]=-eps\n",
    "A[5,6]=-eps\n",
    "##########################\n",
    "\n",
    "#print(la.cond(A))\n",
    "# Расчет собственных значений\n",
    "eigen_values=la.eig(A)[0]\n",
    "eigen_values.imag.sort()\n",
    "a=la.norm(A)\n",
    "\n",
    "# Расчитываем эпсилон-спектр \n",
    "def f(x,y,A):\n",
    "    ones=np.zeros((9,9))\n",
    "    for i in range(0,len(ones)):\n",
    "        ones[i][i]=1\n",
    "    res=A-ones.dot(x+1j*y)\n",
    "    U,S,V=la.svd(res)\n",
    "    sing_min=S.min()\n",
    "    return 1/sing_min\n",
    "\n",
    "# Получаем данные для построения эпсилон спектра\n",
    "# Делаем данные\n",
    "X = np.arange(-2.1, 2.1, 0.05)\n",
    "Y = np.arange(-2.1, 2.1, 0.05)\n",
    "X, Y = np.meshgrid(X, Y)\n",
    "Z=[]\n",
    "for i in range(0,len(X)):\n",
    "    row=[]\n",
    "    for j in range(0,len(X[0])):\n",
    "        row.append(f(X[i,j],Y[i,j],A))\n",
    "    Z.append(row)\n",
    "Z=np.asarray(Z)\n",
    "\n",
    "# Пишем в файл данные для графика эпсилон спектра\n",
    "# splot \"C:\\\\Users\\\\Pudov\\\\Python\\\\DGLA3\\\\eps.txt\" using 1:2:3 with lines\n",
    "file = open('eps.txt', 'w')\n",
    "file.write(\"# X Y Z\"+'\\n')\n",
    "for i in range(0,len(X)):\n",
    "    for j in range(0,len(X[0])):\n",
    "        if (Z[i][j]<=200):\n",
    "            file.write(str(X[i][j])+' '+str(Y[i][j])+' '+str(Z[i][j])+'\\n')\n",
    "file.close()\n",
    "\n",
    "# Вывод мнимых частей собственных значений в виде таблицы\n",
    "from IPython.display import HTML, display\n",
    "import tabulate\n",
    "table = np.array([eigen_values.imag[:3],eigen_values.imag[3:6],eigen_values.imag[6:9]])\n",
    "display(HTML(tabulate.tabulate(table, tablefmt='html',floatfmt=(\".15f\",\".15f\",\".15f\"))))\n",
    "\n",
    "# Вывод действительных частей в виде таблицы\n",
    "from IPython.display import HTML, display\n",
    "import tabulate\n",
    "table = np.array([eigen_values.real[:3],eigen_values.real[3:6],eigen_values.real[6:9]])\n",
    "display(HTML(tabulate.tabulate(table, tablefmt='html')))\n",
    "\n",
    "\n"
   ]
  },
  {
   "cell_type": "code",
   "execution_count": null,
   "metadata": {},
   "outputs": [],
   "source": []
  },
  {
   "cell_type": "code",
   "execution_count": null,
   "metadata": {},
   "outputs": [],
   "source": []
  },
  {
   "cell_type": "code",
   "execution_count": null,
   "metadata": {},
   "outputs": [],
   "source": []
  },
  {
   "cell_type": "code",
   "execution_count": 130,
   "metadata": {},
   "outputs": [],
   "source": [
    "# дихотомия единичной окружностью ЧЕРНОВИК\n",
    "def dichotomy(A0, B0, eps = 1e-3):\n",
    "    A = A0\n",
    "    B = B0\n",
    "    n = A.shape[0]\n",
    "    n2=int(n/2)\n",
    "    I = np.eye(n)\n",
    "    Z = np.zeros((n,n))\n",
    "    k = 100    \n",
    "   \n",
    "    H = I    \n",
    "\n",
    "    for i in range(0, k):\n",
    "        \n",
    "            \n",
    "        # Строим составную матрицу F\n",
    "        bF = np.vstack((\n",
    "                np.hstack((-B, Z, A)), \n",
    "                np.hstack((A, -B, Z))))\n",
    "        # Строим QR разложение\n",
    "        bQ, bR = la.qr(bF,mode='complete')\n",
    "    \n",
    "        # Находим все вспомогательные матрицы\n",
    "        row1, row2 = np.vsplit(bR, 2)\n",
    "        F, D, C = np.hsplit(row1, 3)\n",
    "        zero, B, A = np.hsplit(row2, 3)\n",
    "        D = -D\n",
    "        B = -B;\n",
    "        SA = np.vstack((\n",
    "                np.hstack((A, -B)),\n",
    "                np.hstack((I, -I))))\n",
    "        Sf = np.vstack((Z, I))\n",
    "        Y0, Y1 = np.vsplit(la.inv(SA).dot(Sf), 2)\n",
    "        J3 = -la.inv(F).dot(C.dot(Y0)-D.dot(Y1))\n",
    "        J1 = Y0 - J3\n",
    "        J2 = J3 - Y1\n",
    "        Hp = H\n",
    "        # высчитываем H\n",
    "        H = J1.dot(H).dot(J1.T) + J2.dot(H).dot(J2.T) + 2. * J3.dot(J3.T)\n",
    "        if (la.norm(H-Hp) / la.norm(H) < eps):\n",
    "            break;\n",
    "        # находим матрицу P\n",
    "        gA = np.vstack((\n",
    "          np.hstack((A, -B, Z, Z)),\n",
    "          np.hstack((Z, -I, I, Z)),\n",
    "          np.hstack((Z, Z, A, -B)),\n",
    "          np.hstack((-B, Z, Z, A))))\n",
    "        gf = np.vstack((Z, I, Z, Z))    \n",
    "        #temp=la.inv(gA).dot(gf)\n",
    "        temp=la.solve(gA,gf)\n",
    "        d, Ptmp,d,  d = np.vsplit(temp, 4)\n",
    "        P=np.zeros((n2,n2))\n",
    "        for i in range(0,n2):\n",
    "            for j in range(0,n2):\n",
    "                P[i][j]=Ptmp[i][j]+Ptmp[n2+i][n2+j]\n",
    "    return P, la.norm(H)\n",
    "\n",
    "def EllipticProj(A,t):\n",
    "    a = la.norm(A, 2)\n",
    "    n = A.shape[0]\n",
    "    I = np.eye(n)\n",
    "    Z=np.zeros((n,n))\n",
    "    B = I\n",
    "    b = t\n",
    "    \n",
    "    # замена если a<b\n",
    "    if (a<b):\n",
    "        tmp=a\n",
    "        a=b\n",
    "        b=tmp\n",
    "        A=1j*A\n",
    "    \n",
    "    # замена для того чтобы разность квадратов была 1.\n",
    "    k=np.sqrt(pow(a,2)-pow(b,2))\n",
    "    a=a/k\n",
    "    b=b/k\n",
    "    B=k*B\n",
    "   \n",
    "    c1 = (a-b)/2;\n",
    "    c2 = (a+b)/2;\n",
    "    AA = np.vstack((\n",
    "            np.hstack(( -c1*B, Z )),\n",
    "            np.hstack((-A,    -c1*B))))\n",
    "    AA=AA\n",
    "    BB = np.vstack((\n",
    "            np.hstack((c2*B,     A)),\n",
    "            np.hstack((Z, c2*B))))\n",
    "    BB=BB\n",
    "    P, H = dichotomy( AA, BB, eps = 1e-13); \n",
    "    return P,H \n"
   ]
  },
  {
   "cell_type": "code",
   "execution_count": 131,
   "metadata": {},
   "outputs": [
    {
     "name": "stderr",
     "output_type": "stream",
     "text": [
      "C:\\ProgramData\\Anaconda3\\lib\\site-packages\\ipykernel_launcher.py:55: ComplexWarning: Casting complex values to real discards the imaginary part\n"
     ]
    },
    {
     "data": {
      "text/plain": [
       "[<matplotlib.lines.Line2D at 0x21ecc32a320>]"
      ]
     },
     "execution_count": 131,
     "metadata": {},
     "output_type": "execute_result"
    },
    {
     "data": {
      "image/png": "[encoded data removed]",
      "text/plain": [
       "<Figure size 720x504 with 1 Axes>"
      ]
     },
     "metadata": {},
     "output_type": "display_data"
    }
   ],
   "source": [
    "\n",
    "# Эллиптический спектральный портрет\n",
    "t = np.linspace(0.00001, 3, 500) \n",
    "H1 =[]\n",
    "for ti in t:\n",
    "    P, H = EllipticProj( A,ti ) \n",
    "    H1.append(H)\n",
    "    \n",
    "# Печатаем эллиптический спектральный портрет\n",
    "plt.figure(figsize=(10,7))\n",
    "plt.plot(t, np.log10(H1))"
   ]
  },
  {
   "cell_type": "code",
   "execution_count": 132,
   "metadata": {},
   "outputs": [
    {
     "name": "stderr",
     "output_type": "stream",
     "text": [
      "C:\\ProgramData\\Anaconda3\\lib\\site-packages\\ipykernel_launcher.py:55: ComplexWarning: Casting complex values to real discards the imaginary part\n"
     ]
    }
   ],
   "source": [
    "# Клеточно диагональн форма\n",
    "\n",
    "#ts = [0.6, 2]\n",
    "ts=[0.3,0.9,1.4,1.75,2]\n",
    "I=np.eye(9)\n",
    "    \n",
    "n = A.shape[0]\n",
    "dPs = [ EllipticProj(A,t)[0] for t in ts]\n",
    "\n",
    "Ps=[dPs[0]+I]\n",
    "for i in range(1,len(ts)):\n",
    "     Ps.append(dPs[i]-dPs[i-1])\n",
    "Ps[len(Ps)-1]=Ps[len(Ps)-1]\n",
    "ups = []\n",
    "sps = []\n",
    "\n",
    "for P in Ps:\n",
    "    U, S, V = la.svd(P)\n",
    "    ups.append(U)\n",
    "    sps.append(S)\n",
    "\n",
    "cells=[]\n",
    "for i in range(0,len(Ps)):\n",
    "    cells.append(ups[i][0:n,0:int(np.trace(Ps[i])+0.1)])\n",
    "\n",
    "\n",
    "Q = np.hstack(cells)\n",
    "D = la.inv(Q).dot(A).dot(Q)\n",
    "D=la.solve(Q,A.dot(Q))"
   ]
  },
  {
   "cell_type": "code",
   "execution_count": 133,
   "metadata": {},
   "outputs": [
    {
     "name": "stdout",
     "output_type": "stream",
     "text": [
      "1\n",
      "2\n",
      "2\n",
      "2\n",
      "2\n"
     ]
    }
   ],
   "source": [
    "# Печатаем след для каждой матрицы P.\n",
    "for i in range(0,len(Ps)):\n",
    "    print(int(np.trace(Ps[i])+0.1))"
   ]
  },
  {
   "cell_type": "code",
   "execution_count": null,
   "metadata": {},
   "outputs": [],
   "source": []
  },
  {
   "cell_type": "code",
   "execution_count": null,
   "metadata": {},
   "outputs": [],
   "source": []
  },
  {
   "cell_type": "code",
   "execution_count": 134,
   "metadata": {},
   "outputs": [
    {
     "data": {
      "text/html": [
       "<table>\n",
       "<tbody>\n",
       "<tr><td style=\"text-align: right;\">0</td><td style=\"text-align: right;\">0       </td><td style=\"text-align: right;\">0</td><td style=\"text-align: right;\">0</td><td style=\"text-align: right;\">0      </td><td style=\"text-align: right;\">0      </td><td style=\"text-align: right;\">0</td><td style=\"text-align: right;\">0</td><td style=\"text-align: right;\">0      </td></tr>\n",
       "<tr><td style=\"text-align: right;\">0</td><td style=\"text-align: right;\">0       </td><td style=\"text-align: right;\">0</td><td style=\"text-align: right;\">0</td><td style=\"text-align: right;\">0      </td><td style=\"text-align: right;\">0      </td><td style=\"text-align: right;\">0</td><td style=\"text-align: right;\">0</td><td style=\"text-align: right;\">0      </td></tr>\n",
       "<tr><td style=\"text-align: right;\">0</td><td style=\"text-align: right;\">0.618034</td><td style=\"text-align: right;\">0</td><td style=\"text-align: right;\">0</td><td style=\"text-align: right;\">0      </td><td style=\"text-align: right;\">0      </td><td style=\"text-align: right;\">0</td><td style=\"text-align: right;\">0</td><td style=\"text-align: right;\">0      </td></tr>\n",
       "<tr><td style=\"text-align: right;\">0</td><td style=\"text-align: right;\">0       </td><td style=\"text-align: right;\">0</td><td style=\"text-align: right;\">0</td><td style=\"text-align: right;\">1.17557</td><td style=\"text-align: right;\">0      </td><td style=\"text-align: right;\">0</td><td style=\"text-align: right;\">0</td><td style=\"text-align: right;\">0      </td></tr>\n",
       "<tr><td style=\"text-align: right;\">0</td><td style=\"text-align: right;\">0       </td><td style=\"text-align: right;\">0</td><td style=\"text-align: right;\">0</td><td style=\"text-align: right;\">0      </td><td style=\"text-align: right;\">0      </td><td style=\"text-align: right;\">0</td><td style=\"text-align: right;\">0</td><td style=\"text-align: right;\">0      </td></tr>\n",
       "<tr><td style=\"text-align: right;\">0</td><td style=\"text-align: right;\">0       </td><td style=\"text-align: right;\">0</td><td style=\"text-align: right;\">0</td><td style=\"text-align: right;\">0      </td><td style=\"text-align: right;\">0      </td><td style=\"text-align: right;\">0</td><td style=\"text-align: right;\">0</td><td style=\"text-align: right;\">0      </td></tr>\n",
       "<tr><td style=\"text-align: right;\">0</td><td style=\"text-align: right;\">0       </td><td style=\"text-align: right;\">0</td><td style=\"text-align: right;\">0</td><td style=\"text-align: right;\">0      </td><td style=\"text-align: right;\">1.61803</td><td style=\"text-align: right;\">0</td><td style=\"text-align: right;\">0</td><td style=\"text-align: right;\">0      </td></tr>\n",
       "<tr><td style=\"text-align: right;\">0</td><td style=\"text-align: right;\">0       </td><td style=\"text-align: right;\">0</td><td style=\"text-align: right;\">0</td><td style=\"text-align: right;\">0      </td><td style=\"text-align: right;\">0      </td><td style=\"text-align: right;\">0</td><td style=\"text-align: right;\">0</td><td style=\"text-align: right;\">1.90211</td></tr>\n",
       "<tr><td style=\"text-align: right;\">0</td><td style=\"text-align: right;\">0       </td><td style=\"text-align: right;\">0</td><td style=\"text-align: right;\">0</td><td style=\"text-align: right;\">0      </td><td style=\"text-align: right;\">0      </td><td style=\"text-align: right;\">0</td><td style=\"text-align: right;\">0</td><td style=\"text-align: right;\">0      </td></tr>\n",
       "</tbody>\n",
       "</table>"
      ],
      "text/plain": [
       "<IPython.core.display.HTML object>"
      ]
     },
     "metadata": {},
     "output_type": "display_data"
    }
   ],
   "source": [
    "# Печатаем получившуюся диагональную форму матрицы.\n",
    "for i in range(0,len(D)):\n",
    "    for j in range(0,len(D)):\n",
    "        if D[i][j]<1e-14:\n",
    "            D[i][j]=0\n",
    "display(HTML(tabulate.tabulate([np.hsplit(D[i],len(D)) for i in range(0,len(D))],tablefmt='html')))"
   ]
  },
  {
   "cell_type": "code",
   "execution_count": null,
   "metadata": {},
   "outputs": [],
   "source": []
  },
  {
   "cell_type": "code",
   "execution_count": null,
   "metadata": {},
   "outputs": [],
   "source": []
  },
  {
   "cell_type": "code",
   "execution_count": null,
   "metadata": {},
   "outputs": [],
   "source": [
    "\n"
   ]
  },
  {
   "cell_type": "code",
   "execution_count": null,
   "metadata": {},
   "outputs": [],
   "source": []
  },
  {
   "cell_type": "code",
   "execution_count": null,
   "metadata": {},
   "outputs": [],
   "source": []
  },
  {
   "cell_type": "code",
   "execution_count": null,
   "metadata": {},
   "outputs": [],
   "source": [
    "# дихотомия единичной окружностью\n",
    "def dichotomy(A0, B0, eps = 1e-3):\n",
    "    A = A0\n",
    "    B = B0\n",
    "    n = A.shape[0]\n",
    "    n2=int(n/2)\n",
    "    I = np.eye(n)\n",
    "    Z = np.zeros((n,n))\n",
    "    k = 100    \n",
    "   \n",
    "    H = I    \n",
    "  \n",
    "    for i in range(0, k):\n",
    "        # Строим составную матрицу F\n",
    "        bF = np.vstack((\n",
    "                np.hstack((-B, Z, A)), \n",
    "                np.hstack((A, -B, Z))))\n",
    "        # Строим QR разложение\n",
    "        bQ, bR = la.qr(bF)\n",
    "        # Находим все вспомогательные матрицы\n",
    "        row1, row2 = np.vsplit(bR, 2)\n",
    "        F, D, C = np.hsplit(row1, 3)\n",
    "        zero, B, A = np.hsplit(row2, 3)\n",
    "        D = -D\n",
    "        B = -B;\n",
    "        SA = np.vstack((\n",
    "                np.hstack((A, -B)),\n",
    "                np.hstack((I, -I))))\n",
    "        Sf = np.vstack((Z, I))\n",
    "        Y0, Y1 = np.vsplit(la.inv(SA).dot(Sf), 2)\n",
    "        J3 = -la.inv(F).dot(C.dot(Y0)-D.dot(Y1))\n",
    "        J1 = Y0 - J3\n",
    "        J2 = J3 - Y1\n",
    "        Hp = H\n",
    "        # высчитываем H\n",
    "        H = J1.dot(H).dot(J1.T) + J2.dot(H).dot(J2.T) + 2. * J3.dot(J3.T)\n",
    "        if (la.norm(H-Hp) / la.norm(H) < eps):\n",
    "            break;\n",
    "        # находим матрицу P\n",
    "        gA = np.vstack((\n",
    "          np.hstack((A, -B, Z, Z)),\n",
    "          np.hstack((Z, -I, I, Z)),\n",
    "          np.hstack((Z, Z, A, -B)),\n",
    "          np.hstack((-B, Z, Z, A))))\n",
    "        gf = np.vstack((Z, I, Z, Z))    \n",
    "        #temp=la.inv(gA).dot(gf)\n",
    "        temp=la.solve(gA,gf)\n",
    "        d, Ptmp,d,  d = np.vsplit(temp, 4)\n",
    "        P=np.zeros((n2,n2))\n",
    "        for i in range(0,n2):\n",
    "            for j in range(0,n2):\n",
    "                P[i][j]=Ptmp[i][j]+Ptmp[n2+i][n2+j]\n",
    "    return P, la.norm(H)\n",
    "\n",
    "\n",
    "# Эллиптический спектральный портрет\n",
    "a = la.norm(A, 2)\n",
    "t = np.linspace(-3, 3, 500) \n",
    "k = len(t)\n",
    "n = A.shape[0]\n",
    "I = np.eye(n)\n",
    "B = I\n",
    "H1 =[]\n",
    "Z=np.zeros((n,n))\n",
    "print(a)\n",
    "for i in range(0,k):\n",
    "    b = t[i]\n",
    "    c1 = (a-b)/2;\n",
    "    c2 = (a+b)/2;\n",
    "    AA = np.vstack((\n",
    "            np.hstack(( -c1*B, Z )),\n",
    "            np.hstack((-1*np.sign(a-b)*A,    -c1*B))))\n",
    "    BB = np.vstack((\n",
    "            np.hstack((c2*B,     A)),\n",
    "            np.hstack((Z, c2*B))))\n",
    "    P, H = dichotomy( AA, BB, pow(10,-5) ); \n",
    "    H1.append(H)\n",
    "    \n",
    "# Печатаем эллиптический спектральный портрет\n",
    "plt.figure(figsize=(10,7))\n",
    "plt.plot(t, np.log10(H1))\n",
    "print(np.max(np.log10(H1)))"
   ]
  },
  {
   "cell_type": "code",
   "execution_count": 132,
   "metadata": {},
   "outputs": [],
   "source": []
  },
  {
   "cell_type": "code",
   "execution_count": null,
   "metadata": {},
   "outputs": [],
   "source": []
  },
  {
   "cell_type": "code",
   "execution_count": null,
   "metadata": {},
   "outputs": [],
   "source": []
  },
  {
   "cell_type": "code",
   "execution_count": null,
   "metadata": {},
   "outputs": [],
   "source": []
  }
 ],
 "metadata": {
  "kernelspec": {
   "display_name": "Python 3",
   "language": "python",
   "name": "python3"
  },
  "language_info": {
   "codemirror_mode": {
    "name": "ipython",
    "version": 3
   },
   "file_extension": ".py",
   "mimetype": "text/x-python",
   "name": "python",
   "nbconvert_exporter": "python",
   "pygments_lexer": "ipython3",
   "version": "3.6.5"
  }
 },
 "nbformat": 4,
 "nbformat_minor": 2
}
