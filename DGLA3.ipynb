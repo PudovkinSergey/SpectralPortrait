{
 "cells": [
  {
   "cell_type": "markdown",
   "metadata": {},
   "source": [
    "Изобразить эпсилон - спектр, эллиптический спектральный портрет с полуосями a=||A||,b=t и соответствующую клеточно диагональную форму матрицы А при с=1, е=10^-3"
   ]
  },
  {
   "cell_type": "code",
   "execution_count": 91,
   "metadata": {},
   "outputs": [
    {
     "data": {
      "text/html": [
       "<table>\n",
       "<tbody>\n",
       "<tr><td style=\"text-align: right;\">-1.414567248357250</td><td style=\"text-align: right;\">-1.414213739149824</td><td style=\"text-align: right;\">-1.413860141553966</td></tr>\n",
       "<tr><td style=\"text-align: right;\">-0.000707106692798</td><td style=\"text-align: right;\"> 0.000000000000000</td><td style=\"text-align: right;\"> 0.000707106692798</td></tr>\n",
       "<tr><td style=\"text-align: right;\"> 1.413860141553966</td><td style=\"text-align: right;\"> 1.414213739149824</td><td style=\"text-align: right;\"> 1.414567248357250</td></tr>\n",
       "</tbody>\n",
       "</table>"
      ],
      "text/plain": [
       "<IPython.core.display.HTML object>"
      ]
     },
     "metadata": {},
     "output_type": "display_data"
    },
    {
     "data": {
      "text/html": [
       "<table>\n",
       "<tbody>\n",
       "<tr><td style=\"text-align: right;\">2.77556e-17</td><td style=\"text-align: right;\"> 2.77556e-17</td><td style=\"text-align: right;\"> 2.77556e-17</td></tr>\n",
       "<tr><td style=\"text-align: right;\">2.77556e-17</td><td style=\"text-align: right;\"> 5.55112e-17</td><td style=\"text-align: right;\"> 5.55112e-17</td></tr>\n",
       "<tr><td style=\"text-align: right;\">2.48666e-18</td><td style=\"text-align: right;\">-1.83501e-17</td><td style=\"text-align: right;\">-1.83501e-17</td></tr>\n",
       "</tbody>\n",
       "</table>"
      ],
      "text/plain": [
       "<IPython.core.display.HTML object>"
      ]
     },
     "metadata": {},
     "output_type": "display_data"
    }
   ],
   "source": [
    "import numpy as np\n",
    "import numpy.linalg as la\n",
    "from matplotlib import pyplot\n",
    "from mpseudo import pseudo\n",
    "import math\n",
    "#import PyGnuplot as gp\n",
    "# \n",
    "c=1\n",
    "eps=pow(10,-3)\n",
    "\n",
    "\n",
    "\n",
    "# Создаем матрицу из задания\n",
    "\n",
    "A=np.zeros((9,9))\n",
    "for i in [1,4,7]:\n",
    "    A[i-1][i]=c\n",
    "    A[i][i-1]=-c\n",
    "    A[i][i+1]=c\n",
    "    A[i+1][i]=-c\n",
    "A[3,2]=eps\n",
    "A[6,5]=eps\n",
    "A[2,3]=-eps\n",
    "A[5,6]=-eps\n",
    "\n",
    "# Расчет нормы и собственных значений\n",
    "a=la.norm(A)\n",
    "eigen_values=la.eig(A)[0]\n",
    "eigen_values.imag.sort()\n",
    "\n",
    "# Расчитываем эпсилон-спектр \n",
    "def f(x,y,A):\n",
    "    ones=np.zeros((9,9))\n",
    "    for i in range(0,len(ones)):\n",
    "        ones[i][i]=1\n",
    "    res=A-ones.dot(x+1j*y)\n",
    "    U,S,V=la.svd(res)\n",
    "    sing_min=S.min()\n",
    "    return 1/sing_min\n",
    "\n",
    "# Получаем данные для построения эпсилон спектра\n",
    "# Делаем данные\n",
    "X = np.arange(-4, 4, 0.1)\n",
    "Y = np.arange(-4, 4, 0.1)\n",
    "X, Y = np.meshgrid(X, Y)\n",
    "Z=[]\n",
    "for i in range(0,len(X)):\n",
    "    row=[]\n",
    "    for j in range(0,len(X[0])):\n",
    "        row.append(f(X[i,j],Y[i,j],A))\n",
    "    Z.append(row)\n",
    "Z=np.asarray(Z)\n",
    "\n",
    "# Пишем в файл данные для графика эпсилон спектра\n",
    "# splot \"C:\\\\Users\\\\Pudov\\\\Python\\\\DGLA3\\\\eps.txt\" using 1:2:3 with lines\n",
    "file = open('eps.txt', 'w')\n",
    "file.write(\"# X Y Z\"+'\\n')\n",
    "for i in range(0,len(X)):\n",
    "    for j in range(0,len(X[0])):\n",
    "        if (Z[i][j]<=50):\n",
    "            file.write(str(X[i][j])+' '+str(Y[i][j])+' '+str(Z[i][j])+'\\n')\n",
    "file.close()\n",
    "\n",
    "# Вывод мнимых частей собственных значений в виде таблицы\n",
    "from IPython.display import HTML, display\n",
    "import tabulate\n",
    "table = np.array([eigen_values.imag[:3],eigen_values.imag[3:6],eigen_values.imag[6:9]])\n",
    "display(HTML(tabulate.tabulate(table, tablefmt='html',floatfmt=(\".15f\",\".15f\",\".15f\"))))\n",
    "\n",
    "# Вывод действительных частей в виде таблицы\n",
    "from IPython.display import HTML, display\n",
    "import tabulate\n",
    "table = np.array([eigen_values.real[:3],eigen_values.real[3:6],eigen_values.real[6:9]])\n",
    "display(HTML(tabulate.tabulate(table, tablefmt='html')))\n",
    "\n",
    "\n"
   ]
  },
  {
   "cell_type": "code",
   "execution_count": 92,
   "metadata": {},
   "outputs": [
    {
     "data": {
      "text/plain": [
       "3.464102192487976"
      ]
     },
     "execution_count": 92,
     "metadata": {},
     "output_type": "execute_result"
    }
   ],
   "source": [
    "a"
   ]
  },
  {
   "cell_type": "code",
   "execution_count": 71,
   "metadata": {},
   "outputs": [],
   "source": []
  },
  {
   "cell_type": "code",
   "execution_count": 72,
   "metadata": {},
   "outputs": [],
   "source": []
  },
  {
   "cell_type": "code",
   "execution_count": 86,
   "metadata": {},
   "outputs": [],
   "source": [
    "\n",
    "\n"
   ]
  },
  {
   "cell_type": "code",
   "execution_count": null,
   "metadata": {},
   "outputs": [],
   "source": [
    "\n"
   ]
  },
  {
   "cell_type": "code",
   "execution_count": null,
   "metadata": {},
   "outputs": [],
   "source": []
  },
  {
   "cell_type": "code",
   "execution_count": null,
   "metadata": {},
   "outputs": [],
   "source": []
  },
  {
   "cell_type": "code",
   "execution_count": null,
   "metadata": {},
   "outputs": [],
   "source": []
  },
  {
   "cell_type": "code",
   "execution_count": null,
   "metadata": {},
   "outputs": [],
   "source": []
  },
  {
   "cell_type": "code",
   "execution_count": null,
   "metadata": {},
   "outputs": [],
   "source": []
  },
  {
   "cell_type": "code",
   "execution_count": null,
   "metadata": {},
   "outputs": [],
   "source": []
  },
  {
   "cell_type": "code",
   "execution_count": null,
   "metadata": {},
   "outputs": [],
   "source": []
  },
  {
   "cell_type": "code",
   "execution_count": null,
   "metadata": {},
   "outputs": [],
   "source": []
  },
  {
   "cell_type": "code",
   "execution_count": 132,
   "metadata": {},
   "outputs": [],
   "source": []
  },
  {
   "cell_type": "code",
   "execution_count": null,
   "metadata": {},
   "outputs": [],
   "source": []
  },
  {
   "cell_type": "code",
   "execution_count": null,
   "metadata": {},
   "outputs": [],
   "source": []
  },
  {
   "cell_type": "code",
   "execution_count": null,
   "metadata": {},
   "outputs": [],
   "source": []
  }
 ],
 "metadata": {
  "kernelspec": {
   "display_name": "Python 3",
   "language": "python",
   "name": "python3"
  },
  "language_info": {
   "codemirror_mode": {
    "name": "ipython",
    "version": 3
   },
   "file_extension": ".py",
   "mimetype": "text/x-python",
   "name": "python",
   "nbconvert_exporter": "python",
   "pygments_lexer": "ipython3",
   "version": "3.6.5"
  }
 },
 "nbformat": 4,
 "nbformat_minor": 2
}
